{
 "cells": [
  {
   "cell_type": "code",
   "execution_count": 1,
   "metadata": {
    "collapsed": false
   },
   "outputs": [
    {
     "name": "stderr",
     "output_type": "stream",
     "text": [
      "/opt/rh/python33/root/usr/lib/python3.3/site-packages/IPython/core/interactiveshell.py:2881: FutureWarning: \nmpl_style had been deprecated and will be removed in a future version.\nUse `matplotlib.pyplot.style.use` instead.\n\n  exec(code_obj, self.user_global_ns, self.user_ns)\n"
     ]
    },
    {
     "name": "stdout",
     "output_type": "stream",
     "text": [
      "Starting...\npython version: 3.3.2\npandas version: 0.18.0\nnumpy  version: 1.11.1\ndask  version: 0.14.2\n"
     ]
    },
    {
     "name": "stdout",
     "output_type": "stream",
     "text": [
      "start computing... bid\nThis is mask\n<class 'numpy.ndarray'>\n[ True False False False False False False False False]\n(9,)\nThis is masked data\n<class 'pandas.core.series.Series'>\ntimestamp\n2017-04-04 00:00:00.742159104    1.06644\n2017-04-04 00:00:02.697229056    1.06645\n2017-04-04 00:00:02.697229056    1.06645\n2017-04-04 00:00:02.697229056    1.06645\n2017-04-04 00:00:02.697229056    1.06645\n2017-04-04 00:00:04.918800896    1.06647\n2017-04-04 00:00:04.918800896    1.06647\n2017-04-04 00:00:04.918800896    1.06647\n2017-04-04 00:00:04.918800896    1.06647\nName: bid, dtype: float64\ntimestamp\n2017-04-04 00:00:00.742159104    1.06644\nName: bid, dtype: float64\n(1,)\nThis is mask\n<class 'list'>\n[False, True, True, True, True, True, True, True, True]\n"
     ]
    },
    {
     "ename": "AttributeError",
     "evalue": "'list' object has no attribute 'shape'",
     "traceback": [
      "\u001b[0;31m---------------------------------------------------------------------------\u001b[0m",
      "\u001b[0;31mAttributeError\u001b[0m                            Traceback (most recent call last)",
      "\u001b[0;32m<ipython-input-1-8e78236d5608>\u001b[0m in \u001b[0;36m<module>\u001b[0;34m()\u001b[0m\n\u001b[1;32m    112\u001b[0m     \u001b[0mprint\u001b[0m \u001b[0;34m(\u001b[0m\u001b[0;34m\"dask  version: \"\u001b[0m \u001b[0;34m+\u001b[0m \u001b[0mdask\u001b[0m\u001b[0;34m.\u001b[0m\u001b[0m__version__\u001b[0m\u001b[0;34m)\u001b[0m\u001b[0;34m\u001b[0m\u001b[0m\n\u001b[1;32m    113\u001b[0m \u001b[0;34m\u001b[0m\u001b[0m\n\u001b[0;32m--> 114\u001b[0;31m     \u001b[0mrun\u001b[0m\u001b[0;34m(\u001b[0m\u001b[0;34m)\u001b[0m\u001b[0;34m\u001b[0m\u001b[0m\n\u001b[0m\u001b[1;32m    115\u001b[0m \u001b[0;34m\u001b[0m\u001b[0m\n\u001b[1;32m    116\u001b[0m     \u001b[0mprint\u001b[0m \u001b[0;34m(\u001b[0m\u001b[0;34m'Done!!'\u001b[0m\u001b[0;34m)\u001b[0m\u001b[0;34m\u001b[0m\u001b[0m\n",
      "\u001b[0;32m<ipython-input-1-8e78236d5608>\u001b[0m in \u001b[0;36mrun\u001b[0;34m()\u001b[0m\n\u001b[1;32m     84\u001b[0m     \u001b[0;31m# BTMU vs EBS_ULTRA\u001b[0m\u001b[0;34m\u001b[0m\u001b[0;34m\u001b[0m\u001b[0m\n\u001b[1;32m     85\u001b[0m     \u001b[0mmodel\u001b[0m \u001b[0;34m=\u001b[0m \u001b[0mmy_model_CROSS\u001b[0m\u001b[0;34m.\u001b[0m\u001b[0mMovingAverageCrossStrategy\u001b[0m\u001b[0;34m(\u001b[0m\u001b[0mbtmu_stream\u001b[0m\u001b[0;34m,\u001b[0m \u001b[0mebs_ultra_stream\u001b[0m\u001b[0;34m,\u001b[0m \u001b[0mconfig\u001b[0m\u001b[0;34m)\u001b[0m\u001b[0;34m\u001b[0m\u001b[0m\n\u001b[0;32m---> 86\u001b[0;31m     \u001b[0msignals\u001b[0m \u001b[0;34m=\u001b[0m \u001b[0mmodel\u001b[0m\u001b[0;34m.\u001b[0m\u001b[0mgenerate_signals\u001b[0m\u001b[0;34m(\u001b[0m\u001b[0;34m)\u001b[0m\u001b[0;34m\u001b[0m\u001b[0m\n\u001b[0m\u001b[1;32m     87\u001b[0m \u001b[0;34m\u001b[0m\u001b[0m\n\u001b[1;32m     88\u001b[0m     \u001b[0mc1\u001b[0m \u001b[0;34m=\u001b[0m \u001b[0msignals\u001b[0m\u001b[0;34m[\u001b[0m\u001b[0;34m'bid_signal'\u001b[0m\u001b[0;34m]\u001b[0m\u001b[0;34m.\u001b[0m\u001b[0mmap\u001b[0m\u001b[0;34m(\u001b[0m\u001b[0;32mlambda\u001b[0m \u001b[0mx\u001b[0m\u001b[0;34m:\u001b[0m \u001b[0mx\u001b[0m \u001b[0;34m==\u001b[0m \u001b[0;36m1\u001b[0m\u001b[0;34m)\u001b[0m\u001b[0;34m\u001b[0m\u001b[0m\n",
      "\u001b[0;32m/home/jsong/notebooks/MODEL_CROSS.py\u001b[0m in \u001b[0;36mgenerate_signals\u001b[0;34m(self)\u001b[0m\n\u001b[1;32m    106\u001b[0m                 \u001b[0mprint\u001b[0m\u001b[0;34m(\u001b[0m\u001b[0mtype\u001b[0m\u001b[0;34m(\u001b[0m\u001b[0mmask\u001b[0m\u001b[0;34m)\u001b[0m\u001b[0;34m)\u001b[0m\u001b[0;34m\u001b[0m\u001b[0m\n\u001b[1;32m    107\u001b[0m                 \u001b[0mprint\u001b[0m\u001b[0;34m(\u001b[0m\u001b[0mmask\u001b[0m\u001b[0;34m)\u001b[0m\u001b[0;34m\u001b[0m\u001b[0m\n\u001b[0;32m--> 108\u001b[0;31m                 \u001b[0mprint\u001b[0m\u001b[0;34m(\u001b[0m\u001b[0mmask\u001b[0m\u001b[0;34m.\u001b[0m\u001b[0mshape\u001b[0m\u001b[0;34m)\u001b[0m\u001b[0;34m\u001b[0m\u001b[0m\n\u001b[0m\u001b[1;32m    109\u001b[0m                 \u001b[0mprint\u001b[0m\u001b[0;34m(\u001b[0m\u001b[0;34m\"This is masked data\"\u001b[0m\u001b[0;34m)\u001b[0m\u001b[0;34m\u001b[0m\u001b[0m\n\u001b[1;32m    110\u001b[0m                 \u001b[0mprint\u001b[0m\u001b[0;34m(\u001b[0m\u001b[0mtype\u001b[0m\u001b[0;34m(\u001b[0m\u001b[0mself\u001b[0m\u001b[0;34m.\u001b[0m\u001b[0mstream_from\u001b[0m\u001b[0;34m.\u001b[0m\u001b[0mdata\u001b[0m\u001b[0;34m[\u001b[0m\u001b[0mcol\u001b[0m\u001b[0;34m]\u001b[0m\u001b[0;34m.\u001b[0m\u001b[0mloc\u001b[0m\u001b[0;34m[\u001b[0m\u001b[0mmask\u001b[0m\u001b[0;34m]\u001b[0m\u001b[0;34m)\u001b[0m\u001b[0;34m)\u001b[0m\u001b[0;34m\u001b[0m\u001b[0m\n",
      "\u001b[0;31mAttributeError\u001b[0m: 'list' object has no attribute 'shape'"
     ],
     "output_type": "error"
    }
   ],
   "source": [
    "import sys, platform\n",
    "sys.path.append('/home/jsong/notebooks')\n",
    "\n",
    "import matplotlib.pyplot as plt\n",
    "import math\n",
    "import numpy as np\n",
    "import pandas as pd\n",
    "import datetime as dt\n",
    "import dask\n",
    "from dateutil import parser\n",
    "import velidb.btcommon as bt\n",
    "from velidb.tobcache import tob_cache\n",
    "\n",
    "pd.set_option('display.mpl_style', 'default')\n",
    "%matplotlib inline\n",
    "\n",
    "# user defined classes -- accessorys function\n",
    "import DATA          as my_data\n",
    "import VISUALIZER    as my_visualizer\n",
    "# user defined classes -- different modemls for BTMU project\n",
    "import MODEL_RANDOM  as my_model_RANDOM\n",
    "import MODEL_MA      as my_model_MA\n",
    "import MODEL_CROSS   as my_model_CROSS\n",
    "import CONFIGURATION as my_config\n",
    "\n",
    "feeds_list = ['BTMU_HC_1', 'EBS_ULTRA_NY_A', 'EBS_LIVE_NY_XML_A']\n",
    "currency_list = ['EURUSD']\n",
    "# currency = ['EURUSD', 'GBPUSD', 'USDJPY', 'USDHCHF', 'EURCHF', 'AUDUSD', 'USDCAD', 'NZDUSD', 'USDMZN', 'EURSEK',\n",
    "#             'USDHKD', 'USDZAR', 'EURNOK', 'EURCZK', 'EURDKK', 'EURHUF', 'USDCNH', 'EURPLN']\n",
    "\n",
    "# configuration (time scope, feeds, currency etc.)\n",
    "my_debug_plot = False       # \n",
    "my_debug_data = True\n",
    "my_start_time = dt.datetime(2017, 4, 4)  # start date in (Year, Month, Date)\n",
    "my_days       = 1            # number of days that data span over\n",
    "my_debug_hours = 0            # hours of data (can be used for fast debug)\n",
    "my_debug_minutes = 0          # minutes of data (can be used for fast debug)\n",
    "my_debug_seconds = 5          # seconds of data (can be used for fast debug)\n",
    "my_sampling_rule = '100L'    # for resample, H, T, S, L, U, N (from hour to ns). Example: 100L is 100ms\n",
    "my_sliding_window = 1        # for rolling MA (1 unit)\n",
    "my_computing_window = 30  # for periodic chunk size (30000 is 30000ms, which is 30s)\n",
    "\n",
    "# the main function that does the computation\n",
    "def run():\n",
    "    ######################\n",
    "    # Model Configuration\n",
    "    ######################\n",
    "    # sampling_rule     : the time window size for resample, ''  means the raw data                     \n",
    "    # sliding_window    : the window size for moving average computation\n",
    "    # computing_period  : the periodicity of computing the MA crossing, in ms    \n",
    "    # Example:      300/100L => 3 points\n",
    "    #               if sampling_rule is 100ms, data_period is 300ms\n",
    "    #               then there will be 3 points/signals generated per period\n",
    "    # Note: data_period should be automatically measured (i.e., 95%)\n",
    "    # For the rest parameters, see above comments\n",
    "    config = my_config.ModelConfiguration(sampling_rule=my_sampling_rule,   \n",
    "                                          sliding_window=my_sliding_window,       \n",
    "                                          computing_window=my_computing_window, \n",
    "                                          start_time=my_start_time,\n",
    "                                          days=my_days,\n",
    "                                          hours=my_debug_hours,\n",
    "                                          minutes=my_debug_minutes,\n",
    "                                          seconds=my_debug_seconds,                                          \n",
    "                                          feeds=feeds_list,\n",
    "                                          currency=currency_list,\n",
    "                                          debug_plot=my_debug_plot,\n",
    "                                          debug_data=my_debug_data)\n",
    "\n",
    "    # load all the data, and do the conversion if necessary\n",
    "    # from the preview, it seems that 15 ms is the period\n",
    "    data = my_data.Init_Data(config)\n",
    "\n",
    "    # plot the data\n",
    "    if config.debug_plot:\n",
    "        viz = my_visualizer.Visualizer()    \n",
    "        viz.preview(data)\n",
    "\n",
    "    # input 2 different feed streams and generate signals from 2 input feed streams\n",
    "    # prepare the data stream\n",
    "    btmu_stream       = my_data.DataStream(data.dfs['BTMU_HC_1'], 'BTMU_HC_1', config)\n",
    "    ebs_ultra_stream  = my_data.DataStream(data.dfs['EBS_ULTRA_NY_A'], 'EBS_ULTRA_NY_A', config)\n",
    "    ebs_live_stream   = my_data.DataStream(data.dfs['EBS_LIVE_NY_XML_A'], 'EBS_LIVE_NY_XML_A', config)\n",
    "    \n",
    "    # BTMU vs EBS_ULTRA\n",
    "    model = my_model_CROSS.MovingAverageCrossStrategy(btmu_stream, ebs_ultra_stream, config)\n",
    "    signals = model.generate_signals()    \n",
    "    \n",
    "    c1 = signals['bid_signal'].map(lambda x: x == 1)\n",
    "    \n",
    "    print(c1.shape)    \n",
    "        \n",
    "    #c2 = btmu_stream.data['bid'].loc[btmu_ebs_ultra_signals[c1].index]\n",
    "    # plot and print some information here    \n",
    "    #print(signals.head(5))\n",
    "    #print(np.count_nonzero(signals.signal))\n",
    "    plt.plot(signals.BTMU_HC_1_mavg_bid, c='red')\n",
    "    plt.plot(signals.EBS_ULTRA_NY_A_mavg_bid, c='blue')\n",
    "    #plt.scatter(signals[c1].index, signals[c1].BTMU_HC_1_mavg_bid, c='black', s=10, edgecolor='none')\n",
    "\n",
    "    plt.title('MA Cross')\n",
    "    plt.xlabel('Time')\n",
    "    plt.ylabel('MA Price')\n",
    "    plt.legend(loc='lower left')\n",
    "    plt.show() \n",
    "    \n",
    "\n",
    "if __name__ == \"__main__\":\n",
    "    print ('Starting...')\n",
    "    print (\"python version: \" + platform.python_version())\n",
    "    print (\"pandas version: \" + pd.__version__)\n",
    "    print (\"numpy  version: \" + np.__version__)\n",
    "    print (\"dask  version: \" + dask.__version__)\n",
    "\n",
    "    run()\n",
    "    \n",
    "    print ('Done!!')"
   ]
  },
  {
   "cell_type": "code",
   "execution_count": 2,
   "metadata": {},
   "outputs": [
    {
     "name": "stdout",
     "output_type": "stream",
     "text": [
      "test\nCPU times: user 0 ns, sys: 0 ns, total: 0 ns\nWall time: 58.4 µs\n"
     ]
    }
   ],
   "source": [
    "%time print(\"test\")"
   ]
  }
 ],
 "metadata": {
  "kernelspec": {
   "display_name": "Python 2",
   "language": "python",
   "name": "python2"
  },
  "language_info": {
   "codemirror_mode": {
    "name": "ipython",
    "version": 2.0
   },
   "file_extension": ".py",
   "mimetype": "text/x-python",
   "name": "python",
   "nbconvert_exporter": "python",
   "pygments_lexer": "ipython2",
   "version": "2.7.6"
  }
 },
 "nbformat": 4,
 "nbformat_minor": 0
}